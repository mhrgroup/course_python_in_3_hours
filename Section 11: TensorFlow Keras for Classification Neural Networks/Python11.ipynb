{
  "nbformat": 4,
  "nbformat_minor": 0,
  "metadata": {
    "colab": {
      "name": "Python11.ipynb",
      "provenance": [],
      "collapsed_sections": [],
      "toc_visible": true,
      "include_colab_link": true
    },
    "kernelspec": {
      "name": "python3",
      "display_name": "Python 3"
    },
    "accelerator": "GPU"
  },
  "cells": [
    {
      "cell_type": "markdown",
      "metadata": {
        "id": "view-in-github",
        "colab_type": "text"
      },
      "source": [
        "<a href=\"https://colab.research.google.com/github/mhrgroup/course_python_in_3_hours/blob/main/Section%2011%3A%20TensorFlow%20Keras%20for%20Classification%20Neural%20Networks/Python11.ipynb\" target=\"_parent\"><img src=\"https://colab.research.google.com/assets/colab-badge.svg\" alt=\"Open In Colab\"/></a>"
      ]
    },
    {
      "cell_type": "markdown",
      "metadata": {
        "id": "wg9hFWlA7QHU"
      },
      "source": [
        "# Lecture 11: TensorFlow Keras for Classification Neural Networks\n",
        "By the end of this lecture, you will be able to:\n",
        "1. Develop a shallow neural network using TensorFlow Keras in Python for a classification problem\n",
        "2. Develop a deep neural network using TensorFlow Keras in Python for a classification problem\n"
      ]
    },
    {
      "cell_type": "markdown",
      "metadata": {
        "id": "6A7wPewmpRhj"
      },
      "source": [
        "# 11.1. Multi-Layer Shallow and Deep Neural Networks for Classification\n",
        "\n",
        "\n",
        "---\n",
        "\n",
        "\n",
        "> <img src=\t\"\thttps://i.ibb.co/FX66Gbw/11-1.png\t\"\twidth=\"500\"/>"
      ]
    },
    {
      "cell_type": "code",
      "metadata": {
        "id": "82SHeQs7jLur",
        "cellView": "form"
      },
      "source": [
        "#@title Import\n",
        "import numpy  as np\n",
        "import pandas as pd\n",
        "\n",
        "import sklearn.preprocessing as pg # prp or whatever you like, does not matter! \n",
        "import keras.utils           as ku "
      ],
      "execution_count": null,
      "outputs": []
    },
    {
      "cell_type": "code",
      "metadata": {
        "id": "p23BFbW6jVVR",
        "cellView": "form"
      },
      "source": [
        "#@title Import, loading data, split data, and calibrate data all in one!\n",
        "# (copy-paste from Lecture08)\n",
        "data_tr   = pd.read_csv('/content/sample_data/mnist_train_small.csv')\n",
        "data_te   = pd.read_csv('/content/sample_data/mnist_test.csv')\n",
        "\n",
        "datain_tr = data_tr.iloc[:,1:]\n",
        "dataou_tr = data_tr.iloc[:,0:1]\n",
        "\n",
        "datain_te = data_te.iloc[:,1:]\n",
        "dataou_te = data_te.iloc[:,0:1]\n",
        "\n",
        "fun_calibration_in = pg.MinMaxScaler(feature_range=(0,1))\n",
        "fun_calibration_in.fit(datain_tr)\n",
        "\n",
        "datain_tr_calibrated = fun_calibration_in.transform(datain_tr)\n",
        "datain_te_calibrated = fun_calibration_in.transform(datain_te)\n",
        "\n",
        "dataou_tr_categorical = ku.to_categorical(dataou_tr)\n",
        "dataou_te_categorical = ku.to_categorical(dataou_te)\n"
      ],
      "execution_count": null,
      "outputs": []
    },
    {
      "cell_type": "code",
      "metadata": {
        "id": "l5kAJ15Fnbup",
        "cellView": "form"
      },
      "source": [
        "#@title Some data information\n",
        "print(\"Total number of training datapoints {}\".format(datain_tr.values.shape[0]))\n",
        "print(\"Total number of training datapoints {}\".format(datain_te.values.shape[0]))"
      ],
      "execution_count": null,
      "outputs": []
    },
    {
      "cell_type": "code",
      "metadata": {
        "id": "eFQaBlVfPSCI",
        "cellView": "form"
      },
      "source": [
        "#@title Import TensorFlow\n",
        "import tensorflow as tf"
      ],
      "execution_count": null,
      "outputs": []
    },
    {
      "cell_type": "code",
      "metadata": {
        "id": "6hWt4X4jPLoz",
        "cellView": "form"
      },
      "source": [
        "#@title Define neural network parameters\n",
        "in_neurons = datain_tr_calibrated.shape[1]\n",
        "ou_neurons = dataou_tr_categorical.shape[1]\n",
        "\n",
        "hn_neurons = [100,50,25]\n",
        "\n",
        "ac_fun     = ['relu', 'relu', 'relu', 'softmax']\n",
        "\n",
        "ls_fun     = 'categorical_crossentropy'\n",
        "op_val     = 'adam'\n",
        "it_val     = 100\n",
        "bt_size    = 128\n",
        "\n",
        "sh_val     = True # shuffle\n",
        "vr_val     = 1    # learning to be printed"
      ],
      "execution_count": null,
      "outputs": []
    },
    {
      "cell_type": "code",
      "metadata": {
        "id": "iLJndjejjYuh",
        "cellView": "form"
      },
      "source": [
        "#@title Construct the neural network\n",
        "\n",
        "net        = tf.keras.models.Sequential()\n",
        "net.add(tf.keras.layers.Dense(units=hn_neurons[0], activation=ac_fun[0], input_dim = in_neurons))\n",
        "net.add(tf.keras.layers.Dense(units=hn_neurons[1], activation=ac_fun[1]))\n",
        "net.add(tf.keras.layers.Dense(units=hn_neurons[2], activation=ac_fun[2]))\n",
        "net.add(tf.keras.layers.Dense(units=ou_neurons   , activation=ac_fun[3]))\n",
        "\n",
        "net.compile(optimizer = op_val, loss = ls_fun, metrics=['accuracy'])"
      ],
      "execution_count": null,
      "outputs": []
    },
    {
      "cell_type": "markdown",
      "metadata": {
        "id": "p9SFDXxglxRX"
      },
      "source": [
        "# $$\\sigma(\\mathbf{x})_{i}=\\frac{e^{x_{i}}}{\\sum_{j=1}^{K} e^{x_{j}}}$$\n"
      ]
    },
    {
      "cell_type": "code",
      "metadata": {
        "id": "bxglXCFvHXOf",
        "cellView": "form"
      },
      "source": [
        "#@title Network summary\n",
        "net.summary()"
      ],
      "execution_count": null,
      "outputs": []
    },
    {
      "cell_type": "code",
      "metadata": {
        "id": "m1JKKASBHd_E",
        "cellView": "form"
      },
      "source": [
        "#@title Train the network\n",
        "history = net.fit(datain_tr_calibrated,\n",
        "                  dataou_tr_categorical,\n",
        "                  epochs     = it_val ,\n",
        "                  batch_size = bt_size, \n",
        "                  verbose    = vr_val ,\n",
        "                  shuffle    = sh_val)"
      ],
      "execution_count": null,
      "outputs": []
    },
    {
      "cell_type": "code",
      "metadata": {
        "id": "vMlNZRBHn5Zu",
        "cellView": "form"
      },
      "source": [
        "#@title Estimate outputs of testing data\n",
        "dataes_te_categorical = net.predict(datain_te_calibrated)\n",
        "dataes_te_categorical"
      ],
      "execution_count": null,
      "outputs": []
    },
    {
      "cell_type": "code",
      "metadata": {
        "id": "3iVEZm3qoKAn",
        "cellView": "form"
      },
      "source": [
        "#@title Define an accuracy function\n",
        "def fun_accuracy(dataes, dataou):\n",
        "  num_err = np.count_nonzero( dataes.argmax(axis = 1) - dataou.argmax(axis = 1) )\n",
        "  accuracy = 1 - num_err/dataou.shape[0]\n",
        "  return accuracy \n"
      ],
      "execution_count": null,
      "outputs": []
    },
    {
      "cell_type": "code",
      "metadata": {
        "id": "wzccaXfoo95w",
        "cellView": "form"
      },
      "source": [
        "#@title Compute accuracy\n",
        "print('testing accuracy: {} %'.format( fun_accuracy(dataes_te_categorical,dataou_te_categorical)*100) )"
      ],
      "execution_count": null,
      "outputs": []
    },
    {
      "cell_type": "code",
      "metadata": {
        "id": "L9oDIYOcmYFw",
        "cellView": "form"
      },
      "source": [
        "#@title Plot iterations vs losses\n",
        "import matplotlib.pyplot as plt\n",
        "\n",
        "plt.figure(figsize=[8,8])\n",
        "plt.plot(history.history['loss'],'--')\n",
        "plt.title('Model Loss', fontsize = 20)\n",
        "plt.ylabel('Loss', fontsize = 20)\n",
        "plt.xlabel('Iteration Number', fontsize = 20)\n"
      ],
      "execution_count": null,
      "outputs": []
    },
    {
      "cell_type": "code",
      "metadata": {
        "id": "GYKYcgyyT-kU",
        "cellView": "form"
      },
      "source": [
        "#@title Plot iterations vs accuracy\n",
        "plt.figure(figsize=[8,8])\n",
        "plt.plot(history.history['accuracy'],'--')\n",
        "plt.title('Model Accuracy', fontsize = 20)\n",
        "plt.ylabel('Accuracy', fontsize = 20)\n",
        "plt.xlabel('Iteration Number', fontsize = 20)\n"
      ],
      "execution_count": null,
      "outputs": []
    },
    {
      "cell_type": "markdown",
      "metadata": {
        "id": "ISl4yRGv3WPF"
      },
      "source": [
        "# Lecture 11: TensorFlow Keras for Classification Neural Networks\n",
        "In this lecture, you learned about:\n",
        "1. How to develop a shallow neural network using TensorFlow Keras in Python for a classification problem\n",
        "2. How to develop a deep neural network using TensorFlow Keras in Python for a classification problem\n",
        "\n",
        "***In the next lecture, we will learn about how we can Increase Our Python Expertise and Knowlege on Our Own!***\n"
      ]
    }
  ]
}