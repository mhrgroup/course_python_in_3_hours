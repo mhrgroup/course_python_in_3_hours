{
  "nbformat": 4,
  "nbformat_minor": 0,
  "metadata": {
    "colab": {
      "name": "Python01.ipynb",
      "provenance": [],
      "collapsed_sections": [],
      "toc_visible": true,
      "include_colab_link": true
    },
    "kernelspec": {
      "name": "python3",
      "display_name": "Python 3"
    }
  },
  "cells": [
    {
      "cell_type": "markdown",
      "metadata": {
        "id": "view-in-github",
        "colab_type": "text"
      },
      "source": [
        "<a href=\"https://colab.research.google.com/github/mhrgroup/course_python_in_3_hours/blob/main/Python01.ipynb\" target=\"_parent\"><img src=\"https://colab.research.google.com/assets/colab-badge.svg\" alt=\"Open In Colab\"/></a>"
      ]
    },
    {
      "cell_type": "markdown",
      "metadata": {
        "id": "vQ4rnZ8-lPeB"
      },
      "source": [
        "# Lecture 01: An Introduction to the Course \n",
        "***DO NOT SKIP THIS LECTURE, PLEASE!***\n",
        "\n",
        "By the end of this lecture, you will be able to:\n",
        "\n",
        "1. See if the course is appropriate for you or not\n",
        "2. See how you should approach such a fast-paced course\n",
        "3. See an overview of the course\n"
      ]
    },
    {
      "cell_type": "markdown",
      "metadata": {
        "id": "p_WHJibC0dCz"
      },
      "source": [
        "#1.1. Course instructor\n",
        ">My name is Mohammad H. Rafiei, Ph.D. I am a researcher and instructor at Johns Hopkins University, College of Engineering, and Georgia State University, Department of Computer Science. I am also the founder of MHR Group LLC in Georgia, a data-analytic company, where we work with various domestic and global researchers at different institutions to address persistent challenges in Computer Science, Engineering, and Medicine, using state of the art machine learning and optimization techniques. \n",
        "\n",
        ">It is my great pleasure to serve as a Udemy instructor, helping thousands of students and researchers across the globe to learn Python and machine learning. You can find more information about me at https://ep.jhu.edu/faculty/mohammad-rafiei/.\n"
      ]
    },
    {
      "cell_type": "markdown",
      "metadata": {
        "id": "lotFBMWElRgq"
      },
      "source": [
        "# 1.2. Does this course suit you? \n",
        "---\n",
        "\n",
        "> You want to **(1)** learn Python, **(2)** learn and apply machine learning artificial intelligence in Python, **(3)** run Python on free CPU, GPU, and TPU cloud computers, **(4)** do not want to install any bulky software on your computer, **(5)** want to do all this in less than 3 hours, **(6)** and want this course to be 100% moneyback guaranteed. If that is the case, then you are in the right place!\n",
        "\n",
        "> **In less than 3 hours, this course will teach you:**\n",
        ">\n",
        "> 1. Python 3+ from scratch (no installation is required; all on free cloud computers at Google)\n",
        "> 2. General machine learning concepts and neural networks\n",
        "> 3. How to develop machine learning models using TensorFlow in Python 3+\n",
        "> 4. How to investigate your problems in Python\n",
        "\n",
        "> **This course helps you if:**\n",
        "\n",
        "> 1. You are a Python beginner who is interested in learning Python and using Python to develop machine learning models in **less than 3 hours**.\n",
        "\n",
        "> 2.   You are interested in using **free** and powerful cloud **CPU** and **GPU** computers to develop and run your Python codes. \n",
        ">  * Almost wherever you are in the world, Google will give you free remote access to its computers.\n",
        ">  * Free CPU, GPU, and TPU processors to develop and run your Python codes for Free! \n",
        ">  * You only need to have Gmail (free) and Google Chrome (also free) installed on your operating system! \n",
        ">  * It does not matter what your operating system is.\n",
        ">  * No bulky software is required, just Google Chrome web browser! \n",
        ">  * Almost all the cheapest computers in the market can handle Google Chrome, so no significant computer system is required.\n",
        "\n",
        ">  3. You have no or little knowledge of Python, are interested in learning Python and want to practice machine learning problems in Python, all in a matter of fewer than 3 hours.  \n",
        ">   * You might have no or little knowledge of Python; you will be taught!\n",
        ">   * You might have no or little knowledge of machine learning or neural networks; you will be taught, and you will practice them in Python!\n",
        ">   * You are so busy and don't have the time to go over a 25-hour course that teaches you many rudimentary programming basics. \n",
        ">   * You need optimum materials in a minimum amount of time to help you drive Python by yourself!\n",
        "\n",
        "> 4.   You prefer not even install any additional complicated software, editors, or programs on your computer to run Python! \n",
        ">  * You might have an old rusty computer, but it is able to run the latest version of Google Chrome (i.e., the Google free web browser).\n",
        ">  * Your computer has limited memory to run programming scripts or has a limited hard drive to install bulky and complicated software.\n",
        "\n",
        "> 5.   You will benefit the most if you are familiar with at least one computation-based programming language, such as MATLAB, R, C, C++, C#, etc., and want to switch to or learn Python.\n",
        ">  * We are not going to explain, say, what a \"for-loop\" is, but we will see how to create, say, \"for-loops\" in Python. \n",
        ">  * We are not explaining what an array or matrix is.\n",
        "\n",
        "\n",
        "\n",
        "\n",
        "\n",
        "\n"
      ]
    },
    {
      "cell_type": "markdown",
      "metadata": {
        "id": "0ishe1Pt6L13"
      },
      "source": [
        "# 1.3. Course Pace, Order, and Needs\n",
        "\n",
        "---\n",
        "\n",
        "> 1. This is a fast-paced Python 3 course. Less than 180 minutes from zero-Python-experience to Machine Learning in Python!  \n",
        ">  * In every lecture, you can download the corresponding Python notebooks and upload them into your Google Colab environment. You can practice them either at the end of each lecture or after watching all the lectures. Remember, all the lectures together are less than 180 minutes. \n",
        ">  * You can use these Python notebooks as your future cheatsheets. \n",
        "> 2. It should be noted that we are not going to see everything in Python but enough (essentials) for you to start and accelerate on your own! \n",
        ">  * I believe that by the end of this course, you will be able to drive on your own and expand your Python knowledge based on your needs. \n",
        ">  * You will be a \"Pythonist\" equipped with enough knowledge to explore your journey in Python. \n",
        "> 3. You need to have a free Gmail account and the free Google Chrome browser installed on your computer. \n",
        ">  * If you are not familiar with Gmail and/or Chrome, there will be links to youtube videos to show you how to set them up. \n",
        "> 4. If the videos are too fast or too slow, you can always change the speed of them. You can also turn on the video caption. \n",
        "> 5. it is best to watch the videos of this course using 1080p quality with the caption on.\n"
      ]
    },
    {
      "cell_type": "markdown",
      "metadata": {
        "id": "5L_rmE6QC_Em"
      },
      "source": [
        "# 1.4. Course Overview\n",
        "\n",
        "---\n",
        "\n",
        "> **180 Minutes in 12 Lectures:**\n",
        "> *   Lecture 01: An Introduction to the Course ( < 18 minutes)\n",
        "*   Lecture 02: Gmail, Chrome, and Google Colab (~11 minutes)\n",
        "*   Lecture 03: Operations, Built-in Functions, and Data Types (~20 minutes)\n",
        "*   Lecture 04: Loops, Conditional Scripts, and Functions (~16 minutes)\n",
        "*   Lecture 05: Numpy and Pandas for Data Processing (~28 minutes)\n",
        "*   Lecture 06: Matplotlib and Seaborn for Data Visualizations (~10 minutes)\n",
        "*   Lecture 07: Data Repositories and Data Split in Machine Learning (~15 minutes)\n",
        "*   Lecture 08: Data Processing and Calibrations in Machine Learning (~13 minutes)\n",
        "*   Lecture 09: Brief Introduction to Neural Networks (~11 minutes)\n",
        "*   Lecture 10: TensorFlow Keras for Regression Neural Networks (~16 minutes)\n",
        "*   Lecture 11: TensorFlow Keras for Classification Neural Networks ( ~13 minutes)\n",
        "*   Lecture 12: Hit the Road on Your Own! ( ~9 minutes)\n",
        "\n",
        "\n"
      ]
    },
    {
      "cell_type": "markdown",
      "metadata": {
        "id": "GJZn1i-92IRe"
      },
      "source": [
        "# 1.5. Your Contribution\n",
        "\n",
        "---\n",
        "\n",
        ">*Please write a review about this course; then, we can modify it and make it better. If you find this course interesting, please refer it to your friends and colleagues.* "
      ]
    },
    {
      "cell_type": "markdown",
      "metadata": {
        "id": "RsOHdrzZ5dIr"
      },
      "source": [
        "#1.6. Acknowledgment\n",
        "\n",
        ">I want to thank my wife, Fatemeh, for all her support in developing this course. I want to thank my friend and brother, Ahmad Mohammadshirazi, a computer science Ph.D. student at Ohio State University, for helping me in the video editing of this course."
      ]
    },
    {
      "cell_type": "markdown",
      "metadata": {
        "id": "OJE4qii0qrXH"
      },
      "source": [
        "# Lecture 01: An Introduction to the Course \n",
        "\n",
        "In this lecture, you learned about:\n",
        "\n",
        "1. Why this course would be appropriate for you\n",
        "2. How you should approach such as fast-paced course\n",
        "3. What are the course contents\n",
        "\n",
        "***In the next lecture, we will talk about how to set up Gmail and Chrome and how to initiate a Google Colab Python 3 notebook***"
      ]
    }
  ]
}