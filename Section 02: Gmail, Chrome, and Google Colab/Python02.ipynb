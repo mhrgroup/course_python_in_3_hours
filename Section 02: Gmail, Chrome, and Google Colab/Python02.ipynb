{
  "nbformat": 4,
  "nbformat_minor": 0,
  "metadata": {
    "colab": {
      "name": "Python02.ipynb",
      "provenance": [],
      "collapsed_sections": [],
      "toc_visible": true,
      "include_colab_link": true
    },
    "kernelspec": {
      "name": "python3",
      "display_name": "Python 3"
    }
  },
  "cells": [
    {
      "cell_type": "markdown",
      "metadata": {
        "id": "view-in-github",
        "colab_type": "text"
      },
      "source": [
        "<a href=\"https://colab.research.google.com/github/mhrgroup/course_python_in_3_hours/blob/main/Section%2002%3A%20Gmail%2C%20Chrome%2C%20and%20Google%20Colab/Python02.ipynb\" target=\"_parent\"><img src=\"https://colab.research.google.com/assets/colab-badge.svg\" alt=\"Open In Colab\"/></a>"
      ]
    },
    {
      "cell_type": "markdown",
      "metadata": {
        "id": "vQ4rnZ8-lPeB"
      },
      "source": [
        "# Lecture 02: Gmail, Chrome, and Google Colab\n",
        "\n",
        "By the end of this lecture, you will be able to:\n",
        "1. Install Chrome\n",
        "2. Create a Gmail\n",
        "3. Create a Google Colab Python 3 notebook \n"
      ]
    },
    {
      "cell_type": "markdown",
      "metadata": {
        "id": "lotFBMWElRgq"
      },
      "source": [
        "# 2.1. Google Chrome (*Skip if you have Google Chrome installed on your operating system*)\n",
        "---\n",
        "\n",
        "Installation: \n",
        "\n",
        "*   Windows: https://www.youtube.com/watch?v=Ew_ReoK1zMc \n",
        "*   Mac: https://www.youtube.com/watch?v=qa1MBf0dd24 \n",
        "*   Linux (Ubuntu and Mint): https://www.youtube.com/watch?v=SFw-5IcgnQo\n",
        "\n"
      ]
    },
    {
      "cell_type": "markdown",
      "metadata": {
        "id": "0ishe1Pt6L13"
      },
      "source": [
        "# 2.2. Gmail (*Skip if you have already a Gmail and signed in to Chrome using your Gmail*)\n",
        "\n",
        "---\n",
        "\n"
      ]
    },
    {
      "cell_type": "markdown",
      "metadata": {
        "id": "Qck0u_qD7U_F"
      },
      "source": [
        "Create a Gmail and sign in to Chrome:\n",
        "\n",
        "\n",
        "\n",
        "*   Create Gmail: https://www.youtube.com/watch?v=5zX6DUqJ7xA \n",
        "*   Sign in to Chrome using your Gmail: https://www.youtube.com/watch?v=BbL2nQ1dzuQ \n",
        "\n",
        "\n"
      ]
    },
    {
      "cell_type": "markdown",
      "metadata": {
        "id": "5L_rmE6QC_Em"
      },
      "source": [
        "# 2.3. Create a Python 3 Google Colab Notebook\n",
        "\n",
        "---\n",
        "\n",
        "\n",
        "\n",
        "*   On your Google Chrome, go to http://colab.research.google.com/ \n",
        "*   On the \"Recent\" tab, click on \"NEW NOTEBOOK\"\n",
        "\n"
      ]
    },
    {
      "cell_type": "markdown",
      "metadata": {
        "id": "RWAm8DaeD-RZ"
      },
      "source": [
        "# Lecture 02: Gmail, Chrome, and Google Colab\n",
        "\n",
        "In this lecture, you learned about:\n",
        "1. Chrome and Gmail\n",
        "2. Initiating Google Colab notebooks on remote Google computers \n",
        "\n",
        "***In the next lecture, we will learn about Operations, Built-in Functions, and Data Types***\n"
      ]
    }
  ]
}